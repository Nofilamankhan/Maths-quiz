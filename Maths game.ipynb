{
 "cells": [
  {
   "cell_type": "code",
   "execution_count": null,
   "id": "square-chance",
   "metadata": {},
   "outputs": [
    {
     "name": "stdout",
     "output_type": "stream",
     "text": [
      "Hello, What's your name: sanan aman khan\n",
      "Let's start the game sanan aman khan .This is maths mcq game and at the end you will be getting your final score\n",
      "2+4: 6\n",
      "Correct,it was easy,right.\n",
      "6+4-9: 1\n",
      "Correct,bravo.\n",
      "10 x 9 + 20 - 10: 100\n",
      "Correct, keep it up.\n",
      "800 / 200 x 6 + 6 - 30: -8\n",
      "Wrong, try your best at nxt attempt.\n",
      "Your total score is : 60\n",
      "  *****  = Awesome game with fantastic idea.\n",
      "  ****   = Superb game with nice questions.\n",
      "  ***    = Great game but could be better.\n",
      "  **     = Enjoyable but not beneficial.\n",
      "  *      = Bad , having problems and lack of work.\n"
     ]
    }
   ],
   "source": [
    "result=0\n",
    "a=input(\"Hello, What's your name: \")\n",
    "print(\"Let's start the game\",a,\".This is maths mcq game and at the end you will be getting your final score\")\n",
    "b=int(input(\"2+4: \"))\n",
    "if b==6:\n",
    "    print(\"Correct,it was easy,right.\")\n",
    "    result=result+20\n",
    "else:\n",
    "    print(\"Wrong, try your best next time. For now, continue \")\n",
    "c=int(input(\"6+4-9: \"))\n",
    "if c==1:\n",
    "    print(\"Correct,bravo.\")\n",
    "    result=result+20\n",
    "else:\n",
    "    print(\"Wrong, try your best next time. For now, continue \")\n",
    "d=int(input(\"10 x 9 + 20 - 10: \"))\n",
    "if d==100:\n",
    "    print(\"Correct, keep it up.\")\n",
    "    result=result+20\n",
    "else:\n",
    "    print(\"Wrong, try your best next time. For now, continue \")\n",
    "e=int(input(\"800 / 200 x 6 + 6 - 30: \"))\n",
    "if e==0:\n",
    "    print(\"Welldone, you completed this hard one as well.\")\n",
    "    result=result+20\n",
    "else:\n",
    "    print(\"Wrong, try your best at nxt attempt.\")\n",
    "print(\"Your total score is :\",result)\n",
    "if result==\"80\":\n",
    "    print(\"Excellent, You have done a great job\")\n",
    "if result==\"60\":\n",
    "    print(\"Brilliant, but try to fill these marks in the next attempt.\")\n",
    "if result==\"40\":\n",
    "    print(\"Cool, It was close but better luck next time.\")\n",
    "if result==\"0\":\n",
    "    print(\"Alas, Try to do after preparation\")\n",
    "    \n",
    "    \n",
    "print(\"  *****  = Awesome game with fantastic idea.\")\n",
    "print(\"  ****   = Superb game with nice questions.\")\n",
    "print(\"  ***    = Great game but could be better.\")\n",
    "print(\"  **     = Enjoyable but not beneficial.\")\n",
    "print(\"  *      = Bad , having problems and lack of work.\")\n",
    "\n",
    "z=input(\"You can RATE my game in the group or here by *: \")"
   ]
  },
  {
   "cell_type": "code",
   "execution_count": 2,
   "id": "hybrid-batman",
   "metadata": {},
   "outputs": [
    {
     "ename": "SyntaxError",
     "evalue": "invalid syntax (<ipython-input-2-b97fa0afe1cb>, line 9)",
     "output_type": "error",
     "traceback": [
      "\u001b[1;36m  File \u001b[1;32m\"<ipython-input-2-b97fa0afe1cb>\"\u001b[1;36m, line \u001b[1;32m9\u001b[0m\n\u001b[1;33m    elif c==\"9\":\u001b[0m\n\u001b[1;37m    ^\u001b[0m\n\u001b[1;31mSyntaxError\u001b[0m\u001b[1;31m:\u001b[0m invalid syntax\n"
     ]
    }
   ],
   "source": [
    "result=0\n",
    "a=input(\"Hello, What's your name: \")\n",
    "print(\"Let's start the game\",a,\".This is maths mcq game and at the end you will be getting your final score\")\n",
    "b=int(input(\"2+4: \"))\n",
    "if b==\"6\":\n",
    "    print(\"Correct,it was easy,right.\")\n",
    "    result=result+20\n",
    "c=int(input(\"6+4-9: \"))\n",
    "elif c==\"9\":\n",
    "    print(\"Correct,bravo.\")\n",
    "    result=result+20\n",
    "d=int(input(\"10 x 9 + 20 - 10: \"))\n",
    "elif d==\"100\":\n",
    "    print(\"Correct, keep it up.\")\n",
    "    result=result+20\n",
    "e=int(input(\"800 / 200 x 6 + 6 - 30: \"))\n",
    "elif e==\"0\":\n",
    "    print(\"Welldone, you completed this hard one as well.\")\n",
    "    result=result+20\n",
    "else:\n",
    "    print(\"Wrong , Try again later\")\n",
    "print(\"Your total score is :\",result)\n",
    "if result==\"80\":\n",
    "    print(\"Excellent, You have done a great job\")\n",
    "if result==\"60\":\n",
    "    print(\"Brilliant, but try to fill these marks in the next attempt.\")\n",
    "if result==\"40\":\n",
    "        print(\"Cool, It was close but better luck next time.\")\n",
    "if result==\"0\":\n",
    "    print(\"Alas, Try to do after preparation\")\n",
    "    \n",
    "    \n",
    "print(\"  *****  = Awesome game with fantastic idea.\")\n",
    "print(\"  ****   = Superb game with nice questions.\")\n",
    "print(\"  ***    = Great game but could be better.\")\n",
    "print(\"  **     = Enjoyable but not beneficial.\")\n",
    "print(\"  *      = Bad , having problems and lack of work.\")\n",
    "\n",
    "z=input(\"You can RATE my game in the group or here by *: \")"
   ]
  },
  {
   "cell_type": "code",
   "execution_count": null,
   "id": "embedded-treatment",
   "metadata": {},
   "outputs": [],
   "source": []
  }
 ],
 "metadata": {
  "kernelspec": {
   "display_name": "Python 3",
   "language": "python",
   "name": "python3"
  },
  "language_info": {
   "codemirror_mode": {
    "name": "ipython",
    "version": 3
   },
   "file_extension": ".py",
   "mimetype": "text/x-python",
   "name": "python",
   "nbconvert_exporter": "python",
   "pygments_lexer": "ipython3",
   "version": "3.8.7"
  }
 },
 "nbformat": 4,
 "nbformat_minor": 5
}
